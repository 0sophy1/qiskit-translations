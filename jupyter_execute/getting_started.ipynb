{
 "cells": [
  {
   "cell_type": "code",
   "execution_count": 1,
   "metadata": {},
   "outputs": [
    {
     "name": "stdout",
     "output_type": "stream",
     "text": [
      "\n",
      "Total count for 00 and 11 are: {'11': 473, '00': 527}\n"
     ]
    },
    {
     "data": {
      "text/html": [
       "<pre style=\"word-wrap: normal;white-space: pre;background: #fff0;line-height: 1.1;font-family: &quot;Courier New&quot;,Courier,monospace\">     ┌───┐     ┌─┐   \n",
       "q_0: ┤ H ├──■──┤M├───\n",
       "     └───┘┌─┴─┐└╥┘┌─┐\n",
       "q_1: ─────┤ X ├─╫─┤M├\n",
       "          └───┘ ║ └╥┘\n",
       "c_0: ═══════════╩══╬═\n",
       "                   ║ \n",
       "c_1: ══════════════╩═\n",
       "                     </pre>"
      ],
      "text/plain": [
       "     ┌───┐     ┌─┐   \n",
       "q_0: ┤ H ├──■──┤M├───\n",
       "     └───┘┌─┴─┐└╥┘┌─┐\n",
       "q_1: ─────┤ X ├─╫─┤M├\n",
       "          └───┘ ║ └╥┘\n",
       "c_0: ═══════════╩══╬═\n",
       "                   ║ \n",
       "c_1: ══════════════╩═\n",
       "                     "
      ]
     },
     "execution_count": 1,
     "metadata": {},
     "output_type": "execute_result"
    }
   ],
   "source": [
    "import numpy as np\n",
    "from qiskit import(\n",
    "  QuantumCircuit,\n",
    "  execute,\n",
    "  Aer)\n",
    "from qiskit.visualization import plot_histogram\n",
    "\n",
    "# Use Aer's qasm_simulator\n",
    "simulator = Aer.get_backend('qasm_simulator')\n",
    "\n",
    "# Create a Quantum Circuit acting on the q register\n",
    "circuit = QuantumCircuit(2, 2)\n",
    "\n",
    "# Add a H gate on qubit 0\n",
    "circuit.h(0)\n",
    "\n",
    "# Add a CX (CNOT) gate on control qubit 0 and target qubit 1\n",
    "circuit.cx(0, 1)\n",
    "\n",
    "# Map the quantum measurement to the classical bits\n",
    "circuit.measure([0,1], [0,1])\n",
    "\n",
    "# Execute the circuit on the qasm simulator\n",
    "job = execute(circuit, simulator, shots=1000)\n",
    "\n",
    "# Grab results from the job\n",
    "result = job.result()\n",
    "\n",
    "# Returns counts\n",
    "counts = result.get_counts(circuit)\n",
    "print(\"\\nTotal count for 00 and 11 are:\",counts)\n",
    "\n",
    "# Draw the circuit\n",
    "circuit.draw()"
   ]
  },
  {
   "cell_type": "code",
   "execution_count": 2,
   "metadata": {},
   "outputs": [
    {
     "data": {
      "image/png": "[encoded data removed]",
      "text/plain": [
       "<Figure size 504x360 with 1 Axes>"
      ]
     },
     "execution_count": 2,
     "metadata": {
      "filenames": {
       "image/png": "/home/runner/work/qiskit-translations/qiskit-translations/docs/_build/html/locale/jupyter_execute/getting_started_1_0.png"
      }
     },
     "output_type": "execute_result"
    }
   ],
   "source": [
    "# Plot a histogram\n",
    "plot_histogram(counts)"
   ]
  },
  {
   "cell_type": "code",
   "execution_count": 3,
   "metadata": {},
   "outputs": [
    {
     "data": {
      "text/html": [
       "<pre style=\"word-wrap: normal;white-space: pre;background: #fff0;line-height: 1.1;font-family: &quot;Courier New&quot;,Courier,monospace\">     ┌───┐     ┌─┐   \n",
       "q_0: ┤ H ├──■──┤M├───\n",
       "     └───┘┌─┴─┐└╥┘┌─┐\n",
       "q_1: ─────┤ X ├─╫─┤M├\n",
       "          └───┘ ║ └╥┘\n",
       "c_0: ═══════════╩══╬═\n",
       "                   ║ \n",
       "c_1: ══════════════╩═\n",
       "                     </pre>"
      ],
      "text/plain": [
       "     ┌───┐     ┌─┐   \n",
       "q_0: ┤ H ├──■──┤M├───\n",
       "     └───┘┌─┴─┐└╥┘┌─┐\n",
       "q_1: ─────┤ X ├─╫─┤M├\n",
       "          └───┘ ║ └╥┘\n",
       "c_0: ═══════════╩══╬═\n",
       "                   ║ \n",
       "c_1: ══════════════╩═\n",
       "                     "
      ]
     },
     "execution_count": 3,
     "metadata": {},
     "output_type": "execute_result"
    }
   ],
   "source": [
    "circuit.draw()"
   ]
  },
  {
   "cell_type": "code",
   "execution_count": 4,
   "metadata": {},
   "outputs": [
    {
     "name": "stdout",
     "output_type": "stream",
     "text": [
      "\n",
      "Total count for 00 and 11 are: {'11': 507, '00': 493}\n"
     ]
    }
   ],
   "source": [
    "simulator = Aer.get_backend('qasm_simulator')\n",
    "job = execute(circuit, simulator, shots=1000)\n",
    "result = job.result()\n",
    "counts = result.get_counts(circuit)\n",
    "print(\"\\nTotal count for 00 and 11 are:\",counts)"
   ]
  },
  {
   "cell_type": "code",
   "execution_count": 5,
   "metadata": {},
   "outputs": [
    {
     "data": {
      "image/png": "[encoded data removed]",
      "text/plain": [
       "<Figure size 504x360 with 1 Axes>"
      ]
     },
     "execution_count": 5,
     "metadata": {
      "filenames": {
       "image/png": "/home/runner/work/qiskit-translations/qiskit-translations/docs/_build/html/locale/jupyter_execute/getting_started_4_0.png"
      }
     },
     "output_type": "execute_result"
    }
   ],
   "source": [
    "plot_histogram(counts)"
   ]
  }
 ],
 "metadata": {
  "kernelspec": {
   "display_name": "Python 3",
   "language": "python",
   "name": "python3"
  },
  "language_info": {
   "codemirror_mode": {
    "name": "ipython",
    "version": 3
   },
   "file_extension": ".py",
   "mimetype": "text/x-python",
   "name": "python",
   "nbconvert_exporter": "python",
   "pygments_lexer": "ipython3",
   "version": "3.8.3"
  }
 },
 "nbformat": 4,
 "nbformat_minor": 4
}